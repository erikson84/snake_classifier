{
 "cells": [
  {
   "cell_type": "code",
   "execution_count": 4,
   "metadata": {},
   "outputs": [],
   "source": [
    "from fastai.vision.all import *\n",
    "from fastai.vision.widgets import *\n",
    "import requests\n",
    "import urllib.request"
   ]
  },
  {
   "cell_type": "code",
   "execution_count": 12,
   "metadata": {},
   "outputs": [],
   "source": [
    "snake_learner = load_learner(Path()/'snakes.pkl')\n",
    "#MODEL_URL = \"https://drive.google.com/uc?export=download&confirm=91Ay&id=1In75_gqYcujfFdW5eA4uYDAT_9YVDPCx\"\n",
    "#urllib.request.urlretrieve(MODEL_URL, \"model.pkl\")\n",
    "#snake_learner = load_learner(Path(), \"model.pkl\")"
   ]
  },
  {
   "cell_type": "code",
   "execution_count": 13,
   "metadata": {},
   "outputs": [],
   "source": [
    "btn_upload = widgets.FileUpload()\n",
    "text_url = widgets.Text(placeholder='Cole ou digite o link para uma imagem')\n",
    "btn_class = widgets.Button(description='É peçonhenta?')\n",
    "out_pl = widgets.Output()\n",
    "lbl_pred = widgets.Label()"
   ]
  },
  {
   "cell_type": "code",
   "execution_count": 14,
   "metadata": {},
   "outputs": [],
   "source": [
    "def is_venomous(snake):\n",
    "    if snake in ['bothrops', 'crotalus', 'micrurus']:\n",
    "        return 'É peçonhenta.'\n",
    "    else:\n",
    "        return 'Não é peçonhenta.'\n",
    "\n",
    "def on_click_class(change):\n",
    "    if not btn_upload.data:\n",
    "        img = PILImage.create(requests.get(text_url.value).content)\n",
    "    else:\n",
    "        img = PILImage.create(btn_upload.data[-1])\n",
    "    out_pl.clear_output()\n",
    "    with out_pl: display(img.to_thumb(128,128))\n",
    "    pred,pred_idx,probs = snake_learner.predict(img)\n",
    "    if probs[pred_idx] < 0.4:\n",
    "        lbl_pred.value = 'Não foi possível classificar com confiança'\n",
    "    else :\n",
    "        lbl_pred.value = f'{is_venomous(pred)}\\n Confiança: {probs[pred_idx]*100:.02f}%'\n",
    "\n",
    "btn_class.on_click(on_click_class)"
   ]
  },
  {
   "cell_type": "code",
   "execution_count": 6,
   "metadata": {},
   "outputs": [
    {
     "data": {
      "application/vnd.jupyter.widget-view+json": {
       "model_id": "cb869ad389f64ce0a6afb351981dcf04",
       "version_major": 2,
       "version_minor": 0
      },
      "text/plain": [
       "VBox(children=(Label(value='Avalie se uma cobra é peçonhenta'), HBox(children=(Text(value='', placeholder='Col…"
      ]
     },
     "metadata": {},
     "output_type": "display_data"
    },
    {
     "data": {
      "text/html": [],
      "text/plain": [
       "<IPython.core.display.HTML object>"
      ]
     },
     "metadata": {},
     "output_type": "display_data"
    }
   ],
   "source": [
    "\n",
    "VBox([widgets.Label('Avalie se uma cobra é peçonhenta'),\n",
    "     HBox([text_url, widgets.Label(' ou '), btn_upload]), btn_class, out_pl, lbl_pred])"
   ]
  },
  {
   "cell_type": "code",
   "execution_count": null,
   "metadata": {},
   "outputs": [],
   "source": []
  }
 ],
 "metadata": {
  "kernelspec": {
   "display_name": "Python 3.8.1 64-bit",
   "language": "python",
   "name": "python38164bitba711b2f798d4951b092607c6a8f957a"
  },
  "language_info": {
   "codemirror_mode": {
    "name": "ipython",
    "version": 3
   },
   "file_extension": ".py",
   "mimetype": "text/x-python",
   "name": "python",
   "nbconvert_exporter": "python",
   "pygments_lexer": "ipython3",
   "version": "3.8.3"
  },
  "varInspector": {
   "cols": {
    "lenName": 16,
    "lenType": 16,
    "lenVar": 40
   },
   "kernels_config": {
    "python": {
     "delete_cmd_postfix": "",
     "delete_cmd_prefix": "del ",
     "library": "var_list.py",
     "varRefreshCmd": "print(var_dic_list())"
    },
    "r": {
     "delete_cmd_postfix": ") ",
     "delete_cmd_prefix": "rm(",
     "library": "var_list.r",
     "varRefreshCmd": "cat(var_dic_list()) "
    }
   },
   "types_to_exclude": [
    "module",
    "function",
    "builtin_function_or_method",
    "instance",
    "_Feature"
   ],
   "window_display": false
  }
 },
 "nbformat": 4,
 "nbformat_minor": 4
}
